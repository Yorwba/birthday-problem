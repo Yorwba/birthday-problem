{
 "cells": [
  {
   "cell_type": "markdown",
   "metadata": {},
   "source": [
    "# A Birthday Problem\n",
    "\n",
    "Suppose you're on a party and want to impress everyone with your superior ability to memorize mathematical trivia, and maybe you also want to know their birthdays so you can invite yourself to more parties in the future. Then the [Birthday Problem](https://en.wikipedia.org/wiki/Birthday_problem) might be just perfect for you.\n",
    "\n",
    "If you ask a certain number of persons for their birthdays, how likely is it that two of them will share a birthday? And how many should you expect to have to ask until you find two such people? Most party guests (especially if they are no longer sober) will vastly underestimate the probability of such a coincidence. How to capitalize on their surprise is left as an exercise to the reader.\n",
    "\n",
    "So what *is* the actual probability? To compute it, let us conveniently ignore all the technicalities that make the problem about actual birthdays, like leap years (pretend February 29 doesn't exist), or the effect of holidays on the birth rate 9 months later, or anything else that might require us to get up from our comfy armchairs and look at real-world statistics.\n",
    "\n",
    "Then every person $i$ has one of 365 different birthdays, all of which are equally likely, represented by a number $X_i \\in \\{1, \\ldots, 365\\}$; and when we ask $k$ different people, we want to know whether there are distinct $i, j \\le k$ such that $X_i = X_j$ (persons $i$ and $j$ have the same birthday) and how large $k$ needs to be before that happens."
   ]
  },
  {
   "cell_type": "markdown",
   "metadata": {},
   "source": [
    "## Abstract Statement\n",
    "\n",
    "As a further abstraction of the problem described above, consider <abbr title=\"independent and identically distributed\">i.i.d.</abbr> random variables $X_1, X_2, \\ldots$, uniform over $\\{1, \\ldots, n\\}$. Define $K = \\min \\{k : \\exists i < k . X_i = X_k\\}$, i.e. $K$ is the index of the first repetition. Then we are interested in\n",
    "\n",
    "* $P(K = k)$\n",
    "* $P(K \\le k)$\n",
    "* $\\mathbb{E}[K]$"
   ]
  }
 ],
 "metadata": {
  "kernelspec": {
   "display_name": "Python 3",
   "language": "python",
   "name": "python3"
  },
  "language_info": {
   "codemirror_mode": {
    "name": "ipython",
    "version": 3
   },
   "file_extension": ".py",
   "mimetype": "text/x-python",
   "name": "python",
   "nbconvert_exporter": "python",
   "pygments_lexer": "ipython3",
   "version": "3.5.3"
  }
 },
 "nbformat": 4,
 "nbformat_minor": 2
}
